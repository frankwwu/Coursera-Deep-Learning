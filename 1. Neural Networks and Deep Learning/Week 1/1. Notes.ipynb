{
 "cells": [
  {
   "cell_type": "markdown",
   "metadata": {},
   "source": [
    "# 1. Introduction to Deep Learning"
   ]
  },
  {
   "cell_type": "markdown",
   "metadata": {},
   "source": [
    "## Supervised Learning with Neural Networks"
   ]
  },
  {
   "cell_type": "markdown",
   "metadata": {
    "collapsed": false
   },
   "source": [
    "|Input(x)|Output(x)|Application| |\n",
    "|--|---------------|-----------|--|\n",
    "|Home features|Price|Real Estate|**Standard NN**|\n",
    "|Ad, user info|Click on ad?(0/1)|Online Advertising|**Standard NN**|\n",
    "|Image|Object (1......1000)|Photo tagging|**Standard CNN**|\n",
    "|Audio|Text transcript|Speech recognition|**RNN**|\n",
    "|English|Chinese|Machine translation|**RNN**|\n",
    "|Imae, Radar info|Position of other cars|Automomous driving|**Custom Hybrid**|"
   ]
  },
  {
   "cell_type": "markdown",
   "metadata": {},
   "source": [
    "### Nueral Network examples\n",
    "\n",
    "* Standard NN\n",
    "\n",
    "* Convolutional NN\n",
    "\n",
    "* Recurrent NN"
   ]
  },
  {
   "cell_type": "markdown",
   "metadata": {},
   "source": [
    "### Supervised Learning\n",
    "\n",
    "* **Structured Data**: Real Estate; Online Advertising; ...\n",
    "    \n",
    "* **Unstructured Data**: Audio; Image; Text; ..."
   ]
  },
  {
   "cell_type": "markdown",
   "metadata": {},
   "source": [
    "## Why is Deep Learning taking off?"
   ]
  },
  {
   "cell_type": "markdown",
   "metadata": {
    "collapsed": true
   },
   "source": [
    "![](images/scale.png)"
   ]
  }
 ],
 "metadata": {
  "anaconda-cloud": {},
  "celltoolbar": "Raw Cell Format",
  "kernelspec": {
   "display_name": "Python 3",
   "language": "python",
   "name": "python3"
  },
  "language_info": {
   "codemirror_mode": {
    "name": "ipython",
    "version": 3
   },
   "file_extension": ".py",
   "mimetype": "text/x-python",
   "name": "python",
   "nbconvert_exporter": "python",
   "pygments_lexer": "ipython3",
   "version": "3.5.2"
  }
 },
 "nbformat": 4,
 "nbformat_minor": 1
}
