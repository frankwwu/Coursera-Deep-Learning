{
 "cells": [
  {
   "cell_type": "markdown",
   "metadata": {},
   "source": [
    "# 4. Deep Neural Networks"
   ]
  },
  {
   "cell_type": "markdown",
   "metadata": {},
   "source": [
    "## Getting your matrix dimensions right"
   ]
  },
  {
   "cell_type": "markdown",
   "metadata": {},
   "source": [
    "## Forward and backward propagation\n",
    "\n",
    "**Forward propagation for layer $l$**\n",
    "\n",
    "Input $𝑎^{[𝑙−1]}$\n",
    "\n",
    "Output $𝑎^{[𝑙]}$, cache ($𝑧^{[𝑙]}$)\n",
    "\n",
    "**Backward propagation for layer $l$**\n",
    "\n",
    "Input ${𝑑𝑎}^{[𝑙]}$\n",
    "\n",
    "Output ${𝑑𝑎}^{[𝑙−1]}$, ${𝑑𝑊}^𝑙$ ,${𝑑𝑏}^{[𝑙]}$"
   ]
  },
  {
   "cell_type": "markdown",
   "metadata": {
    "collapsed": true
   },
   "source": [
    "## Parameters vs Hyperparameters\n",
    "\n",
    "**Parameters**: \n",
    "\n",
    "$𝑊^{[1]}$, $𝑏^{[1]}$, $𝑊^{[2]}$, $𝑏^{[2]}$, $𝑊^{[3]}$, $𝑏^{[3]}$… \n",
    "\n",
    "**Hyperparameters**: \n",
    "\n",
    "Learning rate $\\alpha$\n",
    "\n",
    "Number of iterations\n",
    "\n",
    "Number of hidden layers $L$\n",
    "\n",
    "Number of unit $n^{[1]}$, $n^{[2]}$, ...\n",
    "\n",
    "Choice of activation function"
   ]
  }
 ],
 "metadata": {
  "anaconda-cloud": {},
  "celltoolbar": "Raw Cell Format",
  "kernelspec": {
   "display_name": "Python 3",
   "language": "python",
   "name": "python3"
  },
  "language_info": {
   "codemirror_mode": {
    "name": "ipython",
    "version": 3
   },
   "file_extension": ".py",
   "mimetype": "text/x-python",
   "name": "python",
   "nbconvert_exporter": "python",
   "pygments_lexer": "ipython3",
   "version": "3.5.2"
  }
 },
 "nbformat": 4,
 "nbformat_minor": 1
}
