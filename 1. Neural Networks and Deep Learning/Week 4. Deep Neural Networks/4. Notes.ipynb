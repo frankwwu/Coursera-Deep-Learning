{
 "cells": [
  {
   "cell_type": "markdown",
   "metadata": {},
   "source": [
    "# 4. Deep Neural Networks"
   ]
  },
  {
   "cell_type": "markdown",
   "metadata": {},
   "source": [
    "## Getting your matrix dimensions right"
   ]
  },
  {
   "cell_type": "markdown",
   "metadata": {},
   "source": [
    "## Forward and backward propagation\n",
    "\n",
    "**Forward propagation for layer $l$**\n",
    "\n",
    "Input $a^{[l-1]}$\n",
    "\n",
    "Output $a^{[l]}$, cache ($z^{[l]}$)\n",
    "\n",
    "**Backward propagation for layer $l$**\n",
    "\n",
    "Input ${da}^{[l]}$\n",
    "\n",
    "Output ${da}^{[l-1]}$, ${dW}^l$ ,${db}^{[l]}$"
   ]
  },
  {
   "cell_type": "markdown",
   "metadata": {
    "collapsed": true
   },
   "source": [
    "## Parameters vs Hyperparameters\n",
    "\n",
    "**Parameters**: \n",
    "\n",
    "$W^{[1]}$, $b^{[1]}$, $W^{[2]}$, $b^{[2]}$, $W^{[3]}$, $b^{[3]}$, … \n",
    "\n",
    "**Hyperparameters**: \n",
    "\n",
    "Learning rate $\\alpha$\n",
    "\n",
    "Number of iterations\n",
    "\n",
    "Number of hidden layers $L$\n",
    "\n",
    "Number of unit $n^{[1]}$, $n^{[2]}$, ...\n",
    "\n",
    "Choice of activation function"
   ]
  }
 ],
 "metadata": {
  "anaconda-cloud": {},
  "celltoolbar": "Raw Cell Format",
  "kernelspec": {
   "display_name": "Python 3",
   "language": "python",
   "name": "python3"
  },
  "language_info": {
   "codemirror_mode": {
    "name": "ipython",
    "version": 3
   },
   "file_extension": ".py",
   "mimetype": "text/x-python",
   "name": "python",
   "nbconvert_exporter": "python",
   "pygments_lexer": "ipython3",
   "version": "3.5.2"
  }
 },
 "nbformat": 4,
 "nbformat_minor": 1
}
